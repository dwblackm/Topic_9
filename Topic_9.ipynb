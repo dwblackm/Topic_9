{
 "cells": [
  {
   "cell_type": "markdown",
   "metadata": {},
   "source": [
    "{\n",
    " \"cells\": [\n",
    "  {\n",
    "   \"cell_type\": \"markdown\",\n",
    "   \"metadata\": {},\n",
    "   \"source\": [\n",
    "    \"## Geospatial Analysis II:  buffers, cost surfaces, least cost path\\n\",\n",
    "    \"Resources:\\n\",\n",
    "    \"\\n\",\n",
    "    \"* [\\n\",\n",
    "    \"GRASS GIS overview and manual](http://grass.osgeo.org/grass74/manuals/index.html)\\n\",\n",
    "    \"*  [Recommendations](data_acquisition.html#commands)\\n\",\n",
    "    \"and [tutorial](./grass_intro.html)\\n\",\n",
    "    \"how to use GUI from the first assignment\\n\",\n",
    "    \"\\n\",\n",
    "    \"\\n\",\n",
    "    \"\\n\",\n",
    "    \"Text files with recode rules, color rules and site locations:\\n\",\n",
    "    \"\\n\",\n",
    "    \"* [noise_cats.txt](data/noise_cats.txt)\\n\",\n",
    "    \"* [friction_rules.txt](data/friction_rules.txt)\\n\",\n",
    "    \"* [friction_color.txt](data/friction_color.txt)\\n\",\n",
    "    \"* [fire_pt.json](data/fire_pt.json)\\n\",\n",
    "    \"* [lostperson.txt](data/lostperson.txt)\\n\",\n",
    "    \"\\n\",\n",
    "    \"\\n\",\n",
    "    \"### Start GRASS GIS\\n\",\n",
    "    \"In startup pannel set GIS Data Directory to path to datasets,\\n\",\n",
    "    \"for example on MS Windows, `C:\\\\Users\\\\myname\\\\grassdata`.\\n\",\n",
    "    \"For Project location select nc_spm_08_grass7 (North Carolina, State Plane, meters) and\\n\",\n",
    "    \"for Accessible mapset create a new mapset (called e.g. HW_buffers_cost) and\\n\",\n",
    "    \"click Start GRASS.\"\n",
    "   ]\n",
    "  }"
   ]
  },
  {
   "cell_type": "code",
   "execution_count": 4,
   "metadata": {},
   "outputs": [
    {
     "name": "stdout",
     "output_type": "stream",
     "text": [
      "Answer is c\n"
     ]
    }
   ],
   "source": [
    "a = 6\n",
    "b = 7\n",
    "c = a * b\n",
    "print \"Answer is c\"\n"
   ]
  },
  {
   "cell_type": "code",
   "execution_count": 5,
   "metadata": {
    "scrolled": true
   },
   "outputs": [
    {
     "ename": "WindowsError",
     "evalue": "[Error 2] The system cannot find the file specified",
     "output_type": "error",
     "traceback": [
      "\u001b[1;31m---------------------------------------------------------------------------\u001b[0m",
      "\u001b[1;31mWindowsError\u001b[0m                              Traceback (most recent call last)",
      "\u001b[1;32m<ipython-input-5-12b19d4e5a93>\u001b[0m in \u001b[0;36m<module>\u001b[1;34m()\u001b[0m\n\u001b[0;32m      3\u001b[0m \u001b[1;32mimport\u001b[0m \u001b[0msubprocess\u001b[0m\u001b[1;33m\u001b[0m\u001b[0m\n\u001b[0;32m      4\u001b[0m \u001b[1;32mfrom\u001b[0m \u001b[0mIPython\u001b[0m\u001b[1;33m.\u001b[0m\u001b[0mdisplay\u001b[0m \u001b[1;32mimport\u001b[0m \u001b[0mImage\u001b[0m\u001b[1;33m\u001b[0m\u001b[0m\n\u001b[1;32m----> 5\u001b[1;33m \u001b[0mgisbase\u001b[0m \u001b[1;33m=\u001b[0m \u001b[0msubprocess\u001b[0m\u001b[1;33m.\u001b[0m\u001b[0mcheck_output\u001b[0m\u001b[1;33m(\u001b[0m\u001b[1;33m[\u001b[0m\u001b[1;34m\"grass\"\u001b[0m\u001b[1;33m,\u001b[0m \u001b[1;34m\"--config\"\u001b[0m\u001b[1;33m,\u001b[0m \u001b[1;34m\"path\"\u001b[0m\u001b[1;33m]\u001b[0m\u001b[1;33m)\u001b[0m\u001b[1;33m.\u001b[0m\u001b[0mstrip\u001b[0m\u001b[1;33m(\u001b[0m\u001b[1;33m)\u001b[0m\u001b[1;33m\u001b[0m\u001b[0m\n\u001b[0m\u001b[0;32m      6\u001b[0m \u001b[0mos\u001b[0m\u001b[1;33m.\u001b[0m\u001b[0menviron\u001b[0m\u001b[1;33m[\u001b[0m\u001b[1;34m'GISBASE'\u001b[0m\u001b[1;33m]\u001b[0m \u001b[1;33m=\u001b[0m \u001b[0mgisbase\u001b[0m\u001b[1;33m\u001b[0m\u001b[0m\n\u001b[0;32m      7\u001b[0m \u001b[0msys\u001b[0m\u001b[1;33m.\u001b[0m\u001b[0mpath\u001b[0m\u001b[1;33m.\u001b[0m\u001b[0mappend\u001b[0m\u001b[1;33m(\u001b[0m\u001b[0mos\u001b[0m\u001b[1;33m.\u001b[0m\u001b[0mpath\u001b[0m\u001b[1;33m.\u001b[0m\u001b[0mjoin\u001b[0m\u001b[1;33m(\u001b[0m\u001b[0mgisbase\u001b[0m\u001b[1;33m,\u001b[0m \u001b[1;34m\"etc\"\u001b[0m\u001b[1;33m,\u001b[0m \u001b[1;34m\"python\"\u001b[0m\u001b[1;33m)\u001b[0m\u001b[1;33m)\u001b[0m\u001b[1;33m\u001b[0m\u001b[0m\n",
      "\u001b[1;32mC:\\Users\\derekblackmon\\Anaconda2\\lib\\subprocess.pyc\u001b[0m in \u001b[0;36mcheck_output\u001b[1;34m(*popenargs, **kwargs)\u001b[0m\n\u001b[0;32m    214\u001b[0m     \u001b[1;32mif\u001b[0m \u001b[1;34m'stdout'\u001b[0m \u001b[1;32min\u001b[0m \u001b[0mkwargs\u001b[0m\u001b[1;33m:\u001b[0m\u001b[1;33m\u001b[0m\u001b[0m\n\u001b[0;32m    215\u001b[0m         \u001b[1;32mraise\u001b[0m \u001b[0mValueError\u001b[0m\u001b[1;33m(\u001b[0m\u001b[1;34m'stdout argument not allowed, it will be overridden.'\u001b[0m\u001b[1;33m)\u001b[0m\u001b[1;33m\u001b[0m\u001b[0m\n\u001b[1;32m--> 216\u001b[1;33m     \u001b[0mprocess\u001b[0m \u001b[1;33m=\u001b[0m \u001b[0mPopen\u001b[0m\u001b[1;33m(\u001b[0m\u001b[0mstdout\u001b[0m\u001b[1;33m=\u001b[0m\u001b[0mPIPE\u001b[0m\u001b[1;33m,\u001b[0m \u001b[1;33m*\u001b[0m\u001b[0mpopenargs\u001b[0m\u001b[1;33m,\u001b[0m \u001b[1;33m**\u001b[0m\u001b[0mkwargs\u001b[0m\u001b[1;33m)\u001b[0m\u001b[1;33m\u001b[0m\u001b[0m\n\u001b[0m\u001b[0;32m    217\u001b[0m     \u001b[0moutput\u001b[0m\u001b[1;33m,\u001b[0m \u001b[0munused_err\u001b[0m \u001b[1;33m=\u001b[0m \u001b[0mprocess\u001b[0m\u001b[1;33m.\u001b[0m\u001b[0mcommunicate\u001b[0m\u001b[1;33m(\u001b[0m\u001b[1;33m)\u001b[0m\u001b[1;33m\u001b[0m\u001b[0m\n\u001b[0;32m    218\u001b[0m     \u001b[0mretcode\u001b[0m \u001b[1;33m=\u001b[0m \u001b[0mprocess\u001b[0m\u001b[1;33m.\u001b[0m\u001b[0mpoll\u001b[0m\u001b[1;33m(\u001b[0m\u001b[1;33m)\u001b[0m\u001b[1;33m\u001b[0m\u001b[0m\n",
      "\u001b[1;32mC:\\Users\\derekblackmon\\Anaconda2\\lib\\subprocess.pyc\u001b[0m in \u001b[0;36m__init__\u001b[1;34m(self, args, bufsize, executable, stdin, stdout, stderr, preexec_fn, close_fds, shell, cwd, env, universal_newlines, startupinfo, creationflags)\u001b[0m\n\u001b[0;32m    392\u001b[0m                                 \u001b[0mp2cread\u001b[0m\u001b[1;33m,\u001b[0m \u001b[0mp2cwrite\u001b[0m\u001b[1;33m,\u001b[0m\u001b[1;33m\u001b[0m\u001b[0m\n\u001b[0;32m    393\u001b[0m                                 \u001b[0mc2pread\u001b[0m\u001b[1;33m,\u001b[0m \u001b[0mc2pwrite\u001b[0m\u001b[1;33m,\u001b[0m\u001b[1;33m\u001b[0m\u001b[0m\n\u001b[1;32m--> 394\u001b[1;33m                                 errread, errwrite)\n\u001b[0m\u001b[0;32m    395\u001b[0m         \u001b[1;32mexcept\u001b[0m \u001b[0mException\u001b[0m\u001b[1;33m:\u001b[0m\u001b[1;33m\u001b[0m\u001b[0m\n\u001b[0;32m    396\u001b[0m             \u001b[1;31m# Preserve original exception in case os.close raises.\u001b[0m\u001b[1;33m\u001b[0m\u001b[1;33m\u001b[0m\u001b[0m\n",
      "\u001b[1;32mC:\\Users\\derekblackmon\\Anaconda2\\lib\\subprocess.pyc\u001b[0m in \u001b[0;36m_execute_child\u001b[1;34m(self, args, executable, preexec_fn, close_fds, cwd, env, universal_newlines, startupinfo, creationflags, shell, to_close, p2cread, p2cwrite, c2pread, c2pwrite, errread, errwrite)\u001b[0m\n\u001b[0;32m    642\u001b[0m                                          \u001b[0menv\u001b[0m\u001b[1;33m,\u001b[0m\u001b[1;33m\u001b[0m\u001b[0m\n\u001b[0;32m    643\u001b[0m                                          \u001b[0mcwd\u001b[0m\u001b[1;33m,\u001b[0m\u001b[1;33m\u001b[0m\u001b[0m\n\u001b[1;32m--> 644\u001b[1;33m                                          startupinfo)\n\u001b[0m\u001b[0;32m    645\u001b[0m             \u001b[1;32mexcept\u001b[0m \u001b[0mpywintypes\u001b[0m\u001b[1;33m.\u001b[0m\u001b[0merror\u001b[0m\u001b[1;33m,\u001b[0m \u001b[0me\u001b[0m\u001b[1;33m:\u001b[0m\u001b[1;33m\u001b[0m\u001b[0m\n\u001b[0;32m    646\u001b[0m                 \u001b[1;31m# Translate pywintypes.error to WindowsError, which is\u001b[0m\u001b[1;33m\u001b[0m\u001b[1;33m\u001b[0m\u001b[0m\n",
      "\u001b[1;31mWindowsError\u001b[0m: [Error 2] The system cannot find the file specified"
     ]
    }
   ],
   "source": [
    "import os\n",
    "import sys\n",
    "import subprocess\n",
    "from IPython.display import Image\n",
    "gisbase = subprocess.check_output([\"grass\", \"--config\", \"path\"]).strip()\n",
    "os.environ['GISBASE'] = gisbase\n",
    "sys.path.append(os.path.join(gisbase, \"etc\", \"python\"))\n",
    "import grass.script as gs\n",
    "import grass.script.setup as gsetup\n",
    "rcfile = gsetup.init(gisbase, \"/home/jovyan/grassdata\", \"nc_spm_08_grass7\", \"user1\")"
   ]
  },
  {
   "cell_type": "code",
   "execution_count": 6,
   "metadata": {},
   "outputs": [
    {
     "ename": "NameError",
     "evalue": "name 'gs' is not defined",
     "output_type": "error",
     "traceback": [
      "\u001b[1;31m---------------------------------------------------------------------------\u001b[0m",
      "\u001b[1;31mNameError\u001b[0m                                 Traceback (most recent call last)",
      "\u001b[1;32m<ipython-input-6-514ee11542e5>\u001b[0m in \u001b[0;36m<module>\u001b[1;34m()\u001b[0m\n\u001b[0;32m      1\u001b[0m \u001b[0mos\u001b[0m\u001b[1;33m.\u001b[0m\u001b[0menviron\u001b[0m\u001b[1;33m[\u001b[0m\u001b[1;34m'GRASS_FONT'\u001b[0m\u001b[1;33m]\u001b[0m \u001b[1;33m=\u001b[0m \u001b[1;34m'sans'\u001b[0m\u001b[1;33m\u001b[0m\u001b[0m\n\u001b[0;32m      2\u001b[0m \u001b[0mos\u001b[0m\u001b[1;33m.\u001b[0m\u001b[0menviron\u001b[0m\u001b[1;33m[\u001b[0m\u001b[1;34m'GRASS_OVERWRITE'\u001b[0m\u001b[1;33m]\u001b[0m \u001b[1;33m=\u001b[0m \u001b[1;34m'1'\u001b[0m\u001b[1;33m\u001b[0m\u001b[0m\n\u001b[1;32m----> 3\u001b[1;33m \u001b[0mgs\u001b[0m\u001b[1;33m.\u001b[0m\u001b[0mset_raise_on_error\u001b[0m\u001b[1;33m(\u001b[0m\u001b[0mTrue\u001b[0m\u001b[1;33m)\u001b[0m\u001b[1;33m\u001b[0m\u001b[0m\n\u001b[0m\u001b[0;32m      4\u001b[0m \u001b[0mgs\u001b[0m\u001b[1;33m.\u001b[0m\u001b[0mset_capture_stderr\u001b[0m\u001b[1;33m(\u001b[0m\u001b[0mTrue\u001b[0m\u001b[1;33m)\u001b[0m\u001b[1;33m\u001b[0m\u001b[0m\n",
      "\u001b[1;31mNameError\u001b[0m: name 'gs' is not defined"
     ]
    }
   ],
   "source": [
    "os.environ['GRASS_FONT'] = 'sans'\n",
    "os.environ['GRASS_OVERWRITE'] = '1'\n",
    "gs.set_raise_on_error(True)\n",
    "gs.set_capture_stderr(True)"
   ]
  },
  {
   "cell_type": "code",
   "execution_count": null,
   "metadata": {},
   "outputs": [],
   "source": [
    "os.environ['GRASS_RENDER_IMMEDIATE'] = 'cairo'\n",
    "os.environ['GRASS_RENDER_FILE_READ'] = 'TRUE'\n",
    "os.environ['GRASS_LEGEND_FILE'] = 'legend.txt'"
   ]
  },
  {
   "cell_type": "markdown",
   "metadata": {},
   "source": [
    "{\n",
    "   \"cell_type\": \"markdown\",\n",
    "   \"metadata\": {},\n",
    "   \"source\": [\n",
    "    \"Remove MASK in case it was left over\\n\",\n",
    "    \"from previous assignment (use command `r.mask -r`).\\n\",\n",
    "    \"\\n\",\n",
    "    \"Change working directory:\\n\",\n",
    "    \"_Settings_ > _GRASS working environment_ > _Change working directory_ > select/create any directory\\n\",\n",
    "    \"or type `cd` (stands for change directory) into the GUI\\n\",\n",
    "    \"_Console_ and hit Enter:\"\n",
    "   ]\n",
    "  }"
   ]
  },
  {
   "cell_type": "code",
   "execution_count": null,
   "metadata": {},
   "outputs": [],
   "source": [
    "import urllib\n",
    "urllib.urlretrieve(\"http://ncsu-geoforall-lab.github.io/geospatial-modeling-course/grass/data/noise_cats.txt\", \"noise_cats.txt\")\n",
    "urllib.urlretrieve(\"http://ncsu-geoforall-lab.github.io/geospatial-modeling-course/grass/data/friction_rules.txt\", \"friction_rules.txt\")\n",
    "urllib.urlretrieve(\"http://ncsu-geoforall-lab.github.io/geospatial-modeling-course/grass/data/friction_color.txt\", \"friction_color.txt\")\n",
    "urllib.urlretrieve(\"http://ncsu-geoforall-lab.github.io/geospatial-modeling-course/grass/data/fire_pt.json\", \"fire_pt.json\")\n",
    "urllib.urlretrieve(\"http://ncsu-geoforall-lab.github.io/geospatial-modeling-course/grass/data/lostperson.txt\", \"lostperson.txt\")\n",
    "urllib.urlretrieve(\"http://ncsu-geoforall-lab.github.io/geospatial-modeling-course/grass/data/noise_cats.txt\", \"noise_cats.txt\")\n",
    "urllib.urlretrieve(\"http://ncsu-geoforall-lab.github.io/geospatial-modeling-course/grass/data/fire_pt.json\", \"fire_pt.json\")\n",
    "urllib.urlretrieve(\"http://ncsu-geoforall-lab.github.io/geospatial-modeling-course/grass/data/friction_rules.txt\", \"friction_rules.txt\")\n",
    "urllib.urlretrieve(\"http://ncsu-geoforall-lab.github.io/geospatial-modeling-course/grass/data/lostperson.txt\", \"lostperson.txt\")"
   ]
  },
  {
   "cell_type": "code",
   "execution_count": null,
   "metadata": {},
   "outputs": [],
   "source": [
    "{\n",
    " \"cells\": [\n",
    "  {\n",
    "   \"cell_type\": \"markdown\",\n",
    "   \"metadata\": {},\n",
    "   \"source\": [\n",
    "    \"## Geospatial Analysis II:  buffers, cost surfaces, least cost path\\n\",\n",
    "    \"Resources:\\n\",\n",
    "    \"\\n\",\n",
    "    \"* [\\n\",\n",
    "    \"GRASS GIS overview and manual](http://grass.osgeo.org/grass74/manuals/index.html)\\n\",\n",
    "    \"*  [Recommendations](data_acquisition.html#commands)\\n\",\n",
    "    \"and [tutorial](./grass_intro.html)\\n\",\n",
    "    \"how to use GUI from the first assignment\\n\",\n",
    "    \"\\n\",\n",
    "    \"\\n\",\n",
    "    \"\\n\",\n",
    "    \"Text files with recode rules, color rules and site locations:\\n\",\n",
    "    \"\\n\",\n",
    "    \"* [noise_cats.txt](data/noise_cats.txt)\\n\",\n",
    "    \"* [friction_rules.txt](data/friction_rules.txt)\\n\",\n",
    "    \"* [friction_color.txt](data/friction_color.txt)\\n\",\n",
    "    \"* [fire_pt.json](data/fire_pt.json)\\n\",\n",
    "    \"* [lostperson.txt](data/lostperson.txt)\\n\",\n",
    "    \"\\n\",\n",
    "    \"\\n\",\n",
    "    \"### Start GRASS GIS\\n\",\n",
    "    \"In startup pannel set GIS Data Directory to path to datasets,\\n\",\n",
    "    \"for example on MS Windows, `C:\\\\Users\\\\myname\\\\grassdata`.\\n\",\n",
    "    \"For Project location select nc_spm_08_grass7 (North Carolina, State Plane, meters) and\\n\",\n",
    "    \"for Accessible mapset create a new mapset (called e.g. HW_buffers_cost) and\\n\",\n",
    "    \"click Start GRASS.\"\n",
    "   ]\n",
    "  },\n",
    "  {\n",
    "   \"cell_type\": \"code\",\n",
    "   \"execution_count\": null,\n",
    "   \"metadata\": {},\n",
    "   \"outputs\": [],\n",
    "   \"source\": [\n",
    "    \"# This is a quick introduction into Jupyter Notebook.\\n\",\n",
    "    \"# Python code can be executed like this:\\n\",\n",
    "    \"a = 6\\n\",\n",
    "    \"b = 7\\n\",\n",
    "    \"c = a * b\\n\",\n",
    "    \"print \\\"Answer is\\\", c\\n\",\n",
    "    \"# Python code can be mixed with command line code (Bash).\\n\",\n",
    "    \"# It is enough just to prefix the command line with an exclamation mark:\\n\",\n",
    "    \"!echo \\\"Answer is $c\\\"\\n\",\n",
    "    \"# Use Shift+Enter to execute this cell. The result is below.\"\n",
    "   ]\n",
    "  },\n",
    "  {\n",
    "   \"cell_type\": \"code\",\n",
    "   \"execution_count\": null,\n",
    "   \"metadata\": {},\n",
    "   \"outputs\": [],\n",
    "   \"source\": [\n",
    "    \"import os\\n\",\n",
    "    \"import sys\\n\",\n",
    "    \"import subprocess\\n\",\n",
    "    \"from IPython.display import Image\\n\",\n",
    "    \"\\n\",\n",
    "    \"# create GRASS GIS runtime environment\\n\",\n",
    "    \"gisbase = subprocess.check_output([\\\"grass\\\", \\\"--config\\\", \\\"path\\\"]).strip()\\n\",\n",
    "    \"os.environ['GISBASE'] = gisbase\\n\",\n",
    "    \"sys.path.append(os.path.join(gisbase, \\\"etc\\\", \\\"python\\\"))\\n\",\n",
    "    \"\\n\",\n",
    "    \"# do GRASS GIS imports\\n\",\n",
    "    \"import grass.script as gs\\n\",\n",
    "    \"import grass.script.setup as gsetup\\n\",\n",
    "    \"\\n\",\n",
    "    \"# set GRASS GIS session data\\n\",\n",
    "    \"rcfile = gsetup.init(gisbase, \\\"/home/jovyan/grassdata\\\", \\\"nc_spm_08_grass7\\\", \\\"user1\\\")\"\n",
    "   ]\n",
    "  },\n",
    "  {\n",
    "   \"cell_type\": \"code\",\n",
    "   \"execution_count\": null,\n",
    "   \"metadata\": {},\n",
    "   \"outputs\": [],\n",
    "   \"source\": [\n",
    "    \"# default font displays\\n\",\n",
    "    \"os.environ['GRASS_FONT'] = 'sans'\\n\",\n",
    "    \"# overwrite existing maps\\n\",\n",
    "    \"os.environ['GRASS_OVERWRITE'] = '1'\\n\",\n",
    "    \"gs.set_raise_on_error(True)\\n\",\n",
    "    \"gs.set_capture_stderr(True)\"\n",
    "   ]\n",
    "  },\n",
    "  {\n",
    "   \"cell_type\": \"code\",\n",
    "   \"execution_count\": null,\n",
    "   \"metadata\": {},\n",
    "   \"outputs\": [],\n",
    "   \"source\": [\n",
    "    \"# set display modules to render into a file (named map.png by default)\\n\",\n",
    "    \"os.environ['GRASS_RENDER_IMMEDIATE'] = 'cairo'\\n\",\n",
    "    \"os.environ['GRASS_RENDER_FILE_READ'] = 'TRUE'\\n\",\n",
    "    \"os.environ['GRASS_LEGEND_FILE'] = 'legend.txt'\"\n",
    "   ]\n",
    "  },\n",
    "  {\n",
    "   \"cell_type\": \"markdown\",\n",
    "   \"metadata\": {},\n",
    "   \"source\": [\n",
    "    \"Remove MASK in case it was left over\\n\",\n",
    "    \"from previous assignment (use command `r.mask -r`).\\n\",\n",
    "    \"\\n\",\n",
    "    \"Change working directory:\\n\",\n",
    "    \"_Settings_ > _GRASS working environment_ > _Change working directory_ > select/create any directory\\n\",\n",
    "    \"or type `cd` (stands for change directory) into the GUI\\n\",\n",
    "    \"_Console_ and hit Enter:\"\n",
    "   ]\n",
    "  },"
   ]
  },
  {
   "cell_type": "markdown",
   "metadata": {},
   "source": [
    "Download all text files with recode rules, color rules and site locations (see above) to the selected directory. Now you can use the commands from the assignment requiring the text file without the need to specify the full path to the file."
   ]
  }
 ],
 "metadata": {
  "kernelspec": {
   "display_name": "Python 2",
   "language": "python",
   "name": "python2"
  },
  "language_info": {
   "codemirror_mode": {
    "name": "ipython",
    "version": 2
   },
   "file_extension": ".py",
   "mimetype": "text/x-python",
   "name": "python",
   "nbconvert_exporter": "python",
   "pygments_lexer": "ipython2",
   "version": "2.7.16"
  }
 },
 "nbformat": 4,
 "nbformat_minor": 2
}
